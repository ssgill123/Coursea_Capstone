{
    "cells": [
        {
            "cell_type": "markdown",
            "metadata": {
                "collapsed": true
            },
            "source": "# The Battle of Neighborhoods"
        },
        {
            "cell_type": "markdown",
            "metadata": {},
            "source": "## Background"
        },
        {
            "cell_type": "markdown",
            "metadata": {},
            "source": "The restaurant business is and has been an incredibly difficult business to break into, especially in a big city. Not only is it a relatively capital and employee-intensive business, restaurants are also highly regulated, low margin and in most cases have a lot of competition to deal with. To fill a niche and remain relevant, prospective, as well as established, restaurants have to hedge their bets with well-rounded and well-directed datasets. Data science will provide valuable insights regarding market trends and evolving consumer lifestyles so that restaurateurs can better address and meet public demand."
        },
        {
            "cell_type": "markdown",
            "metadata": {},
            "source": "## The Problem"
        },
        {
            "cell_type": "markdown",
            "metadata": {},
            "source": "There are already many Italian restaurants in NYC, but my client believes that they have unlocked the secret to the best pizza and pasta sauce the U.S. has ever tasted. They started with a restaurant in Atlanta that quickly grew into a chain which reaches GA, SC, NC, and VA. \n\nHowever, restaurants, especially in NYC, need more than food to stay afloat. Many New Yorkers and Tourists alike might want a quiet place to enjoy a drink and meal, some want to dine alone, and some want to bring their kids. Restaurant goers are extremely varied, but we are here to satisfy the needs of the client. Their biggest goal is to expand the reaches of their flavor in NYC, but everyone has to start somewhere. This is why I want to find my client the best place to start. "
        },
        {
            "cell_type": "markdown",
            "metadata": {},
            "source": "## The Data"
        },
        {
            "cell_type": "markdown",
            "metadata": {},
            "source": "To locate and recommend to the client which neighbourhood in New York City will be best choice to start a restaurant.\n\nBefore opening a new restaurant in NYC, I will provide data and insight to:-\n\nPart 1: NYC Population & Demographic characteristics\nData source:https://en.wikipedia.org/wiki/New_York_City ; https://en.wikipedia.org/wiki/Demographics_of_New_York_City. Web scraping techniques was used to get NYC\u2019s population density and demographics data from Wikipedia. Preliminary finding indicates that Queens being the second most populous urban area in New York City (NYC), behind Brooklyn.\n\nPart 2: Who are the competitors in that location? (coming soon)\nData source:https://cocl.us/new_york_dataset and Foursquare API. These datasets was used to explore various neighbourhoods and each Indian restaurants venues in the neighbourhood."
        },
        {
            "cell_type": "code",
            "execution_count": null,
            "metadata": {},
            "outputs": [],
            "source": ""
        }
    ],
    "metadata": {
        "kernelspec": {
            "display_name": "Python 3.6",
            "language": "python",
            "name": "python3"
        },
        "language_info": {
            "codemirror_mode": {
                "name": "ipython",
                "version": 3
            },
            "file_extension": ".py",
            "mimetype": "text/x-python",
            "name": "python",
            "nbconvert_exporter": "python",
            "pygments_lexer": "ipython3",
            "version": "3.6.9"
        }
    },
    "nbformat": 4,
    "nbformat_minor": 1
}